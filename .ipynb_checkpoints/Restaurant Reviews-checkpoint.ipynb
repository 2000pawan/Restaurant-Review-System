{
 "cells": [
  {
   "cell_type": "markdown",
   "id": "0463a918-ee4d-4c74-9d65-375b893812e7",
   "metadata": {},
   "source": [
    "# Restaurant Reviews Using NLP"
   ]
  },
  {
   "cell_type": "code",
   "execution_count": 13,
   "id": "380db7e7-bc1f-4a8d-9e9d-049206075c79",
   "metadata": {
    "tags": []
   },
   "outputs": [],
   "source": [
    "import pandas as pd\n",
    "import re\n",
    "from sklearn.feature_extraction.text import CountVectorizer,ENGLISH_STOP_WORDS\n",
    "from sklearn.model_selection import train_test_split\n",
    "from sklearn.ensemble import RandomForestClassifier\n",
    "import pickle"
   ]
  },
  {
   "cell_type": "code",
   "execution_count": 4,
   "id": "d686a226-d8b4-453a-9d26-98e38068e334",
   "metadata": {
    "tags": []
   },
   "outputs": [],
   "source": [
    "df=pd.read_csv('Restaurant_Reviews.txt',sep='\\t')\n",
    "corpus=df.Review\n",
    "y=df.Liked\n",
    "spwords=list(ENGLISH_STOP_WORDS)\n",
    "spwords.remove('not')\n",
    "spwords.remove('no')\n",
    "def cleaning_dataset(doc):\n",
    "    doc=doc.lower()\n",
    "    doc=re.sub('[^a-z ]','',doc)\n",
    "    doc=doc.split()\n",
    "    new_doc=''\n",
    "    for word in doc:\n",
    "        if word not in spwords:\n",
    "            new_doc=new_doc+word+' '\n",
    "    return new_doc.strip()\n",
    "corpus_new=list(map(cleaning_dataset,corpus))\n",
    "cv=CountVectorizer()\n",
    "X=cv.fit_transform(corpus_new).toarray()"
   ]
  },
  {
   "cell_type": "code",
   "execution_count": 5,
   "id": "2d2535f0-b6ea-4335-9594-10d259e8bf30",
   "metadata": {
    "tags": []
   },
   "outputs": [
    {
     "name": "stdout",
     "output_type": "stream",
     "text": [
      "Accuracy Score on Training Data is:-  0.9986666666666667\n",
      "Accuracy Score on Testing Data is:-  0.804\n"
     ]
    }
   ],
   "source": [
    "X_train,X_test,y_train,y_test=train_test_split(X,y,random_state=1)\n",
    "model=RandomForestClassifier()\n",
    "model.fit(X_train,y_train)\n",
    "print('Accuracy Score on Training Data is:- ',model.score(X_train,y_train))\n",
    "print('Accuracy Score on Testing Data is:- ',model.score(X_test,y_test))"
   ]
  },
  {
   "cell_type": "code",
   "execution_count": 6,
   "id": "67416024-52d6-457a-9e5c-352bb4763f9d",
   "metadata": {
    "tags": []
   },
   "outputs": [],
   "source": [
    "pkl=open('model.pkl','wb')\n",
    "pickle.dump(model,pkl)\n",
    "pkl.close()\n",
    "pkl=open('cv.pkl','wb')\n",
    "pickle.dump(cv,pkl)\n",
    "pkl.close()"
   ]
  },
  {
   "cell_type": "code",
   "execution_count": null,
   "id": "b7b29655-8652-44a9-93ff-ba24bf554430",
   "metadata": {},
   "outputs": [],
   "source": []
  }
 ],
 "metadata": {
  "kernelspec": {
   "display_name": "Python 3 (ipykernel)",
   "language": "python",
   "name": "python3"
  },
  "language_info": {
   "codemirror_mode": {
    "name": "ipython",
    "version": 3
   },
   "file_extension": ".py",
   "mimetype": "text/x-python",
   "name": "python",
   "nbconvert_exporter": "python",
   "pygments_lexer": "ipython3",
   "version": "3.11.7"
  }
 },
 "nbformat": 4,
 "nbformat_minor": 5
}
